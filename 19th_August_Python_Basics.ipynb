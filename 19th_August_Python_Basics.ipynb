{
 "cells": [
  {
   "cell_type": "markdown",
   "id": "6c3127bc-77c1-4601-9539-4af2c38599f3",
   "metadata": {},
   "source": [
    "py basics variable"
   ]
  },
  {
   "cell_type": "markdown",
   "id": "a1db5ed6-3ca2-42aa-bdc1-18fb58f8097d",
   "metadata": {},
   "source": [
    "1."
   ]
  },
  {
   "cell_type": "code",
   "execution_count": 6,
   "id": "ad788542-1ad7-406b-b71e-8cbe0ce02b0b",
   "metadata": {},
   "outputs": [
    {
     "name": "stdout",
     "output_type": "stream",
     "text": [
      "10\n",
      "25\n"
     ]
    }
   ],
   "source": [
    "x = 25\n",
    "y = 10\n",
    "x,y = y,x\n",
    "print(x)\n",
    "print(y)"
   ]
  },
  {
   "cell_type": "markdown",
   "id": "1f49f52a-1f1d-4e18-91c6-b6436ff7cfc2",
   "metadata": {},
   "source": [
    "2."
   ]
  },
  {
   "cell_type": "code",
   "execution_count": 2,
   "id": "bdddc010-3f21-48ad-9151-b0f24fbbd931",
   "metadata": {},
   "outputs": [
    {
     "name": "stdin",
     "output_type": "stream",
     "text": [
      "enter the length of rectangle :  5\n",
      "enter the width of rectangle :  3\n"
     ]
    },
    {
     "name": "stdout",
     "output_type": "stream",
     "text": [
      "area of rectangle is: 15\n"
     ]
    }
   ],
   "source": [
    "length = int(input(\"enter the length of rectangle : \"))\n",
    "width = int(input(\"enter the width of rectangle : \"))\n",
    "area = length*width\n",
    "print(f\"area of rectangle is: {area}\")"
   ]
  },
  {
   "cell_type": "markdown",
   "id": "c1a7a497-5660-42ef-8aa0-3c8690058679",
   "metadata": {},
   "source": [
    "3."
   ]
  },
  {
   "cell_type": "code",
   "execution_count": 5,
   "id": "9f79a5c6-7755-4e7b-baa9-b6ebf294172f",
   "metadata": {},
   "outputs": [
    {
     "name": "stdin",
     "output_type": "stream",
     "text": [
      "enter the temp in Celsius :  25\n"
     ]
    },
    {
     "name": "stdout",
     "output_type": "stream",
     "text": [
      "the temp in Fahrenheit will be 77.0\n"
     ]
    }
   ],
   "source": [
    "celsius = int(input(\"enter the temp in Celsius : \"))\n",
    "Fahrenheit = celsius*1.8 + 32\n",
    "print(f\"the temp in Fahrenheit will be {Fahrenheit}\")"
   ]
  },
  {
   "cell_type": "markdown",
   "id": "580b4ea0-514c-49ae-8204-7869232aa6bc",
   "metadata": {},
   "source": [
    "string base que :"
   ]
  },
  {
   "cell_type": "markdown",
   "id": "50781ef7-66fb-4b59-9dae-b7bf43b148be",
   "metadata": {},
   "source": [
    "1."
   ]
  },
  {
   "cell_type": "code",
   "execution_count": 7,
   "id": "0149ed54-9cc2-40db-aa5f-58595207a174",
   "metadata": {},
   "outputs": [
    {
     "name": "stdin",
     "output_type": "stream",
     "text": [
      "enter the string :  helloveja\n"
     ]
    },
    {
     "name": "stdout",
     "output_type": "stream",
     "text": [
      "the length of string is 9\n"
     ]
    }
   ],
   "source": [
    "s = input(\"enter the string : \")\n",
    "print(f\"the length of string is {len(s)}\")"
   ]
  },
  {
   "cell_type": "markdown",
   "id": "d8aec4b3-30c4-4f7e-b7f1-7f8d4ff819d0",
   "metadata": {},
   "source": [
    "2."
   ]
  },
  {
   "cell_type": "code",
   "execution_count": 8,
   "id": "cc02aa37-ed63-4ef4-9c5c-6a9742c89388",
   "metadata": {},
   "outputs": [
    {
     "name": "stdin",
     "output_type": "stream",
     "text": [
      "enter the sentence :  hello veja\n"
     ]
    },
    {
     "name": "stdout",
     "output_type": "stream",
     "text": [
      "number of vowels in sentence is 4.\n"
     ]
    }
   ],
   "source": [
    "sentance = input(\"enter the sentence : \")\n",
    "sentence_list = list(sentance)\n",
    "x = 0\n",
    "for char in sentence_list:\n",
    "    if char in ['a','e','i','o','u']:\n",
    "        x += 1\n",
    "print(f\"number of vowels in sentence is {x}.\")\n"
   ]
  },
  {
   "cell_type": "markdown",
   "id": "a35ba881-bef1-45d3-9bee-eca034e8feb1",
   "metadata": {},
   "source": [
    "3."
   ]
  },
  {
   "cell_type": "code",
   "execution_count": 10,
   "id": "7b0b73d4-ec82-4fd1-b590-5be0e8c32b62",
   "metadata": {},
   "outputs": [
    {
     "name": "stdout",
     "output_type": "stream",
     "text": [
      "reverse string is emoclew\n"
     ]
    }
   ],
   "source": [
    "string = \"welcome\"\n",
    "print(f\"reverse string is {string[::-1]}\")"
   ]
  },
  {
   "cell_type": "markdown",
   "id": "032c7cf4-26c3-4d33-a8a4-36ec8229ebb2",
   "metadata": {},
   "source": [
    "4."
   ]
  },
  {
   "cell_type": "code",
   "execution_count": 11,
   "id": "502515f0-769a-49f2-a509-df07b7e2ef0b",
   "metadata": {},
   "outputs": [
    {
     "name": "stdin",
     "output_type": "stream",
     "text": [
      "enter the string :  xyyx\n"
     ]
    },
    {
     "name": "stdout",
     "output_type": "stream",
     "text": [
      "string is pelindrom.\n"
     ]
    }
   ],
   "source": [
    "string = input(\"enter the string : \")\n",
    "if string == string[::-1]:\n",
    "    print(\"string is pelindrom.\")\n",
    "else:\n",
    "    print(\"string is not palindrom.\")"
   ]
  },
  {
   "cell_type": "markdown",
   "id": "322d958c-a1a1-4f30-8b48-8477df069992",
   "metadata": {},
   "source": [
    "5.\n"
   ]
  },
  {
   "cell_type": "code",
   "execution_count": null,
   "id": "904d7f9b-557d-4fe3-898e-cb388f2ae3da",
   "metadata": {},
   "outputs": [],
   "source": []
  }
 ],
 "metadata": {
  "kernelspec": {
   "display_name": "Python 3 (ipykernel)",
   "language": "python",
   "name": "python3"
  },
  "language_info": {
   "codemirror_mode": {
    "name": "ipython",
    "version": 3
   },
   "file_extension": ".py",
   "mimetype": "text/x-python",
   "name": "python",
   "nbconvert_exporter": "python",
   "pygments_lexer": "ipython3",
   "version": "3.10.8"
  }
 },
 "nbformat": 4,
 "nbformat_minor": 5
}
